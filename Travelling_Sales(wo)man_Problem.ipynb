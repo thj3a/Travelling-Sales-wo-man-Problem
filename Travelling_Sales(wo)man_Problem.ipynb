{
  "nbformat": 4,
  "nbformat_minor": 0,
  "metadata": {
    "colab": {
      "name": "Travelling Sales(wo)man Problem.ipynb",
      "provenance": [],
      "collapsed_sections": [],
      "include_colab_link": true
    },
    "kernelspec": {
      "name": "python3",
      "display_name": "Python 3"
    },
    "language_info": {
      "name": "python"
    }
  },
  "cells": [
    {
      "cell_type": "markdown",
      "metadata": {
        "id": "view-in-github",
        "colab_type": "text"
      },
      "source": [
        "<a href=\"https://colab.research.google.com/github/thj3a/Travelling-Sales-wo-man-Problem/blob/main/Travelling_Sales(wo)man_Problem.ipynb\" target=\"_parent\"><img src=\"https://colab.research.google.com/assets/colab-badge.svg\" alt=\"Open In Colab\"/></a>"
      ]
    },
    {
      "cell_type": "code",
      "execution_count": null,
      "metadata": {
        "id": "UpapH0DdFSa7"
      },
      "outputs": [],
      "source": [
        "import numpy as np\n",
        "import matplotlib.pyplot as plt\n",
        "from scipy.spatial import distance\n",
        "from itertools import permutations\n",
        "from math import inf"
      ]
    },
    {
      "cell_type": "code",
      "source": [
        "def gera_pontos(n_pontos, limite = 10, dim=2):\n",
        "  pontos = []\n",
        "  for i in range(n_pontos):\n",
        "    pontos.append(np.random.randint(1,limite+1,dim))\n",
        "  return pontos"
      ],
      "metadata": {
        "id": "_HHiwzekGSml"
      },
      "execution_count": null,
      "outputs": []
    },
    {
      "cell_type": "code",
      "source": [
        "def computa_distancia(a,b):\n",
        "  return np.sqrt(np.sum(np.square(a-b)))"
      ],
      "metadata": {
        "id": "bhvfZoWIJW0N"
      },
      "execution_count": null,
      "outputs": []
    },
    {
      "cell_type": "code",
      "source": [
        "def constroi_matriz_distancias(amostra):\n",
        "  M = np.zeros((len(amostra),len(amostra)))\n",
        "  for i in range(len(amostra)):\n",
        "    for j in range(len(amostra)):\n",
        "      M[i][j] = computa_distancia(amostra[i],amostra[j])\n",
        "  return M"
      ],
      "metadata": {
        "id": "HOmLWQKUFoF8"
      },
      "execution_count": null,
      "outputs": []
    },
    {
      "cell_type": "code",
      "source": [
        "def permuta(s, tipo=2):\n",
        "  if tipo == 1:\n",
        "    perm = permutations(s)\n",
        "    perm = list(perm)\n",
        "    i = np.random.randint(0,len(perm))\n",
        "    return perm[i]\n",
        "\n",
        "  i = np.random.randint(0,len(s))\n",
        "  j = np.random.randint(0,len(s))\n",
        "  while i==j or abs(i-j)<2:\n",
        "    j = np.random.randint(0,len(s))\n",
        "  if i>j:\n",
        "    i = i+j\n",
        "    j = i-j\n",
        "    i = i-j\n",
        "  if tipo == 2:\n",
        "    return np.concatenate((s[0:i+1], s[i+1:j][::-1], s[j:]))\n",
        "  if tipo == 3:\n",
        "    return np.concatenate((s[0:i], [s[j]], s[i+1:j], [s[i]],s[j+1:]))"
      ],
      "metadata": {
        "id": "hcV9dlNrSsnO"
      },
      "execution_count": null,
      "outputs": []
    },
    {
      "cell_type": "code",
      "source": [
        "def computa_custo_caminho(s):\n",
        "  result = 0\n",
        "  for i in range(len(s)-1):\n",
        "    result += M_dist[int(s[i]-1)][int(s[i+1]-1)]\n",
        "  return result"
      ],
      "metadata": {
        "id": "zg4X4sLoiDdJ"
      },
      "execution_count": null,
      "outputs": []
    },
    {
      "cell_type": "code",
      "source": [
        "def computa_boltzman(a,b,T):\n",
        "  return np.exp((computa_custo_caminho(a)-computa_custo_caminho(b))/T)"
      ],
      "metadata": {
        "id": "005eBf0_fazr"
      },
      "execution_count": null,
      "outputs": []
    },
    {
      "cell_type": "code",
      "source": [
        "def computa_passo(s_ini, T):\n",
        "  s_fim = permuta(s_ini)\n",
        "  r = computa_boltzman(s_ini,s_fim, T)\n",
        "  if r >= 1:\n",
        "    return s_fim\n",
        "  u = np.random.uniform()\n",
        "  if u <= r:\n",
        "    return s_fim\n",
        "  else:\n",
        "    return s_ini"
      ],
      "metadata": {
        "id": "Aj7DzNZRRtX7"
      },
      "execution_count": null,
      "outputs": []
    },
    {
      "cell_type": "code",
      "source": [
        "from os import replace\n",
        "def markov_caxeiro_viajante(s, T_zero,limite_iters=10**5, tipo_beta = \"linear\", beta=0.5):\n",
        "  best = inf\n",
        "  iters=0\n",
        "  T = T_zero\n",
        "  hist_t = []\n",
        "  hist_custo = []\n",
        "  while T>0 and iters<limite_iters:\n",
        "    iters+=1\n",
        "    s = computa_passo(s,T)\n",
        "    custo_s = computa_custo_caminho(s)\n",
        "    hist_t.append(T)\n",
        "    hist_custo.append(custo_s)\n",
        "    if custo_s < best:\n",
        "      best = custo_s\n",
        "      print(iters, best, T)\n",
        "    if tipo_beta == \"linear\":\n",
        "      T = T_zero - beta*iters\n",
        "    if tipo_beta == \"log\":\n",
        "      T = T_zero/np.log(iters+beta)\n",
        "    if tipo_beta == \"exp\":\n",
        "      T = T_zero*beta**iters\n",
        "  plt.plot(range(iters), hist_t)\n",
        "  plt.show()\n",
        "  plt.plot(range(iters), hist_custo)\n",
        "  #plt.plot(range(iters), [best for i in range(iters)])\n",
        "  plt.ylim(bottom=0)\n",
        "  plt.show()\n",
        "  print(T)\n",
        "  print(s)\n",
        "\n",
        "amostra = gera_pontos(n_pontos=100,limite=100, dim=1)\n",
        "#plt.scatter([amostra[i][0] for i in range(len(amostra))], [amostra[i][1] for i in range(len(amostra))])\n",
        "plt.show()\n",
        "\n",
        "M_dist = constroi_matriz_distancias(amostra)\n",
        "print(M_dist)\n",
        "\n",
        "s_inicial = np.random.permutation(range(1,len(amostra)+1))  # randint(1,len(amostra)+1,100, replace=False)\n",
        "print(s_inicial)\n",
        "markov_caxeiro_viajante(s_inicial, T_zero=10**4, limite_iters=2*10**6, tipo_beta=\"exp\", beta=0.99)"
      ],
      "metadata": {
        "colab": {
          "base_uri": "https://localhost:8080/",
          "height": 1000
        },
        "id": "kHIRY3DWhyfe",
        "outputId": "1835d8ff-a9e6-4187-a099-3ac0fa08f55b"
      },
      "execution_count": null,
      "outputs": [
        {
          "output_type": "stream",
          "name": "stdout",
          "text": [
            "[[ 0. 45.  8. ... 61. 84. 27.]\n",
            " [45.  0. 37. ... 16. 39. 18.]\n",
            " [ 8. 37.  0. ... 53. 76. 19.]\n",
            " ...\n",
            " [61. 16. 53. ...  0. 23. 34.]\n",
            " [84. 39. 76. ... 23.  0. 57.]\n",
            " [27. 18. 19. ... 34. 57.  0.]]\n",
            "[ 70  52  53  15  35  93  66  88  84   3  98  99   2  50  17  58  12  61\n",
            "  33  73  40  47   6  95  90  34  97  45  44   5  23  48  91  76  27  18\n",
            "  81  30  74  64  75  82  29  13  94  41  72  71  11   9  16  87  28  78\n",
            "  63  43  25  20  55  89  77  54  56  22  10   8 100   1  51  36  69  67\n",
            "  24  14  37  39  62  80   4  38  79  60  57  19  49  92  86   7  21  85\n",
            "  59  26  96  65  32  42  83  46  68  31]\n",
            "1 3511.0 10000\n",
            "2 3481.0 9900.0\n",
            "3 3443.0 9801.0\n",
            "4 3359.0 9702.99\n",
            "5 3325.0 9605.9601\n",
            "337 3315.0 341.52726856212337\n",
            "339 3311.0 334.7308759177372\n",
            "349 3303.0 302.72460413199775\n",
            "384 3295.0 212.95092499631087\n",
            "386 3269.0 208.7132015888843\n",
            "387 3239.0 206.62606957299545\n",
            "388 3203.0 204.5598088772655\n",
            "389 3165.0 202.51421078849285\n",
            "395 3141.0 190.66310942897582\n",
            "397 3083.0 186.86891355133923\n",
            "398 3079.0 185.0002244158258\n",
            "401 3005.0 179.50553275045138\n",
            "403 2951.0 175.9333726487174\n",
            "404 2949.0 174.17403892223024\n",
            "415 2905.0 155.9446799458193\n",
            "419 2877.0 149.79983733668104\n",
            "428 2873.0 136.84473507730198\n",
            "516 2853.0 56.5099883465759\n",
            "518 2807.0 55.385439578479044\n",
            "520 2783.0 54.28326933086731\n",
            "522 2769.0 53.203032271183055\n",
            "540 2753.0 44.39866258117536\n",
            "543 2701.0 43.07997790385187\n",
            "544 2697.0 42.649178124813346\n",
            "556 2673.0 37.80358628096102\n",
            "557 2641.0 37.42555041815142\n",
            "594 2635.0 25.803011523941574\n",
            "596 2611.0 25.289531594615134\n",
            "597 2609.0 25.036636278668983\n",
            "599 2595.0 24.53840721672347\n",
            "600 2581.0 24.293023144556233\n",
            "604 2511.0 23.33578110349837\n",
            "607 2501.0 22.642685068943365\n",
            "612 2463.0 21.53296820358444\n",
            "613 2453.0 21.31763852154859\n",
            "618 2443.0 20.272862121357658\n",
            "621 2427.0 19.67073784349121\n",
            "631 2421.0 17.789862707850798\n",
            "632 2399.0 17.61196408077229\n",
            "637 2359.0 16.748802600010645\n",
            "642 2301.0 15.927944620349372\n",
            "643 2295.0 15.768665174145879\n",
            "644 2283.0 15.610978522404421\n",
            "654 2249.0 14.118289149009989\n",
            "658 2239.0 13.56197222456529\n",
            "660 2223.0 13.29208897729644\n",
            "662 2221.0 13.027576406648242\n",
            "666 2193.0 12.514237916196437\n",
            "670 2111.0 12.021127010489012\n",
            "698 2081.0 9.0725764087406\n",
            "699 2071.0 8.981850644653194\n",
            "708 2067.0 8.205075478212752\n",
            "718 2045.0 7.420523186589906\n",
            "720 2029.0 7.272854775176767\n",
            "738 2023.0 6.0692973949129945\n",
            "750 2021.0 5.379733392796991\n",
            "753 1995.0 5.219949931297529\n",
            "757 1975.0 5.01426307640418\n",
            "762 1963.0 4.768514293241338\n",
            "778 1959.0 4.060188551557324\n",
            "781 1917.0 3.9395968913875206\n",
            "787 1909.0 3.7090522698832378\n",
            "789 1893.0 3.6352421297125614\n",
            "791 1885.0 3.5629008113312817\n",
            "793 1859.0 3.491999085185789\n",
            "797 1845.0 3.3544003881531186\n",
            "808 1811.0 3.003322987613774\n",
            "811 1809.0 2.914121291558657\n",
            "817 1771.0 2.7435873489492795\n",
            "824 1759.0 2.5572026969116264\n",
            "827 1749.0 2.481251219610654\n",
            "837 1719.0 2.24399912660961\n",
            "844 1647.0 2.0915538266463676\n",
            "852 1641.0 1.9299701966483496\n",
            "855 1637.0 1.8726481518376967\n",
            "857 1617.0 1.8353824536161267\n",
            "860 1615.0 1.780869759361274\n",
            "864 1611.0 1.7106963851720998\n",
            "880 1585.0 1.456585731138697\n",
            "882 1583.0 1.4275996750890367\n",
            "903 1567.0 1.1559672415832067\n",
            "914 1551.0 1.0349816920593722\n",
            "918 1549.0 0.9941992838152817\n",
            "924 1491.0 0.9360188902607786\n",
            "928 1475.0 0.8991360112691316\n",
            "929 1445.0 0.8901446511564404\n",
            "943 1421.0 0.7733094384508602\n",
            "953 1403.0 0.6993671945700825\n",
            "954 1375.0 0.6923735226243815\n",
            "975 1371.0 0.5606341364874836\n",
            "977 1363.0 0.5494775171713827\n",
            "991 1359.0 0.47735629225333304\n",
            "1005 1341.0 0.41470128009400775\n",
            "1009 1303.0 0.39836039500019627\n",
            "1019 1273.0 0.3602700006316044\n",
            "1030 1269.0 0.32256351342728734\n",
            "1041 1257.0 0.28880345299954546\n",
            "1069 1251.0 0.21796553618976475\n",
            "1094 1237.0 0.1695382496612867\n",
            "1109 1235.0 0.1458127880524502\n",
            "1110 1231.0 0.14435466017192572\n",
            "1114 1209.0 0.13866651058605775\n",
            "1118 1207.0 0.1332024967895898\n",
            "1119 1165.0 0.13187047182169392\n",
            "1122 1133.0 0.1279537869381178\n",
            "1137 1125.0 0.11004772346411958\n",
            "1146 1117.0 0.10053049343078338\n",
            "1148 1113.0 0.09852993661151078\n",
            "1166 1111.0 0.08222458801711055\n",
            "1169 1107.0 0.07978243552841435\n",
            "1174 1081.0 0.0758723023443103\n",
            "1182 1063.0 0.07001076444224336\n",
            "1186 1049.0 0.06725206098026885\n",
            "1187 1037.0 0.06657954037046616\n",
            "1189 1035.0 0.06525460751709389\n",
            "1220 1025.0 0.04778616897024302\n",
            "1233 1019.0 0.041933367879969194\n",
            "1234 1015.0 0.041514034201169496\n",
            "1247 1007.0 0.0364294377610244\n",
            "1270 989.0 0.028910922152256508\n",
            "1276 979.0 0.027219059307227133\n",
            "1292 973.0 0.023175879569030843\n",
            "1297 965.0 0.022040030867829033\n",
            "1364 959.0 0.011240101589493241\n",
            "1365 937.0 0.01112770057359831\n",
            "1366 931.0 0.011016423567862327\n",
            "1371 925.0 0.01047650919852093\n",
            "1426 923.0 0.006027709330546\n",
            "1432 905.0 0.005674968681068249\n",
            "1450 887.0 0.004735839460149707\n",
            "1493 879.0 0.0030740458411139698\n",
            "1510 867.0 0.002591246017917189\n",
            "1552 857.0 0.0016989743444234375\n",
            "1561 841.0 0.0015520423666630216\n",
            "1564 839.0 0.0015059451563307633\n",
            "1566 835.0 0.001475976847719781\n",
            "1570 819.0 0.0014178174707719993\n",
            "1574 817.0 0.001361949805331874\n",
            "1635 811.0 0.0007377478837642376\n",
            "1642 801.0 0.0006876292379483597\n",
            "1646 777.0 0.0006605339023325349\n",
            "1703 759.0 0.00037247849599508683\n",
            "1705 755.0 0.00036506617392478467\n",
            "1744 749.0 0.0002466858185502706\n",
            "1758 741.0 0.00021430727193503553\n",
            "1789 729.0 0.00015693793737946778\n",
            "1794 "
          ]
        },
        {
          "output_type": "stream",
          "name": "stderr",
          "text": [
            "/usr/local/lib/python3.7/dist-packages/ipykernel_launcher.py:2: RuntimeWarning: overflow encountered in exp\n",
            "  \n"
          ]
        },
        {
          "output_type": "stream",
          "name": "stdout",
          "text": [
            "725.0 0.00014924641689970317\n",
            "1817 701.0 0.00011844408823424026\n",
            "1818 691.0 0.00011725964735189786\n",
            "1851 677.0 8.416082914616353e-05\n",
            "1900 645.0 5.143213358460055e-05\n",
            "1908 643.0 4.74587283882982e-05\n",
            "1920 631.0 4.206669887427232e-05\n",
            "1927 627.0 3.920891232154721e-05\n",
            "1974 617.0 2.4447752538547158e-05\n",
            "2010 589.0 1.7025738019449258e-05\n",
            "2024 555.0 1.4791038613698139e-05\n",
            "2057 553.0 1.0615980021891214e-05\n",
            "2076 541.0 8.770589605351945e-06\n",
            "2132 537.0 4.99573838564214e-06\n",
            "2157 535.0 3.885792022322668e-06\n",
            "2348 525.0 5.699040200396169e-07\n",
            "2353 513.0 5.419730524556859e-07\n",
            "2363 505.0 4.901507137787288e-07\n",
            "2436 499.0 2.3534167765324058e-07\n",
            "2459 495.0 1.867705169222726e-07\n",
            "2463 493.0 1.7941101334117252e-07\n",
            "2504 483.0 1.1882069209059643e-07\n",
            "2550 479.0 7.483607975458062e-08\n",
            "2576 469.0 5.7627010273942744e-08\n",
            "2763 461.0 8.798476500486472e-09\n",
            "2832 451.0 4.397804361641056e-09\n",
            "2834 449.0 4.310288054844399e-09\n",
            "2861 435.0 3.2859166953479763e-09\n",
            "2874 429.0 2.8834609799911443e-09\n",
            "2883 427.0 2.6340913376679915e-09\n",
            "2888 419.0 2.5049946526500405e-09\n",
            "2898 417.0 2.265472261849603e-09\n",
            "2923 413.0 1.7621327143929177e-09\n",
            "2984 409.0 9.545209932596055e-10\n",
            "2987 403.0 9.261707652388019e-10\n",
            "2990 401.0 8.986625673404443e-10\n",
            "2997 391.0 8.376122384791599e-10\n",
            "3037 389.0 5.6033893217489e-10\n",
            "3083 385.0 3.5291470096693094e-10\n",
            "3170 383.0 1.4720809060869553e-10\n",
            "3175 377.0 1.399934294336471e-10\n",
            "3280 369.0 4.8730748860036124e-11\n",
            "3304 361.0 3.828668416449668e-11\n",
            "3317 351.0 3.359737025526751e-11\n",
            "3476 345.0 6.796748914096186e-12\n",
            "3481 337.0 6.463640588974102e-12\n",
            "3482 331.0 6.399004183084361e-12\n",
            "3603 321.0 1.8965790125776304e-12\n",
            "3656 315.0 1.113361640233744e-12\n",
            "3717 307.0 6.030913846685962e-13\n",
            "3823 301.0 2.078326388287226e-13\n",
            "3887 299.0 1.0923610496154533e-13\n",
            "3899 295.0 9.682523088310897e-14\n",
            "3978 283.0 4.376923080629484e-14\n",
            "4050 279.0 2.1227699224591034e-14\n",
            "4061 275.0 1.9005971165674446e-14\n",
            "4113 273.0 1.1269903182519338e-14\n",
            "4119 267.0 1.061039013201311e-14\n",
            "4138 265.0 8.76597141372396e-15\n",
            "4211 263.0 4.208906282848862e-15\n",
            "4251 259.0 2.8156394376923797e-15\n",
            "4289 257.0 1.921827636089396e-15\n",
            "4343 255.0 1.1169016758191573e-15\n",
            "4351 253.0 1.0306150955597803e-15\n",
            "4495 251.0 2.4241780882185463e-16\n",
            "4548 249.0 1.4230817037511788e-16\n",
            "4599 245.0 8.523633341538664e-17\n",
            "4626 243.0 6.497929777688058e-17\n",
            "4813 241.0 9.921021788050511e-18\n",
            "5181 233.0 2.4564504899845636e-19\n",
            "5248 229.0 1.252754736259888e-19\n",
            "5300 227.0 7.428415241726735e-20\n",
            "5379 221.0 3.357967941565275e-20\n",
            "5467 217.0 1.3866717571475194e-20\n",
            "5485 213.0 1.1571966639537788e-20\n",
            "5653 209.0 2.1385522488469056e-21\n",
            "5713 207.0 1.1701230680562843e-21\n",
            "5873 203.0 2.3434876912767624e-22\n",
            "6235 199.0 6.163155439754368e-24\n",
            "6277 191.0 4.040929691906642e-24\n",
            "7238 189.0 2.58168530331766e-28\n",
            "7506 187.0 1.7463667523908796e-29\n",
            "7548 185.0 1.1450214637092025e-29\n",
            "7727 183.0 1.8945822347715854e-30\n",
            "8054 179.0 7.083079137150616e-32\n",
            "9520 173.0 2.827596100614913e-38\n",
            "9566 169.0 1.7808868436653846e-38\n",
            "10874 167.0 3.4791316214898e-44\n",
            "10880 165.0 3.27553335878596e-44\n",
            "11573 163.0 3.0936550191338357e-47\n",
            "11643 161.0 1.53086010293364e-47\n",
            "11853 157.0 1.8549250668069835e-48\n",
            "14688 155.0 7.836155657063608e-61\n",
            "15202 151.0 4.4729400491173663e-63\n",
            "19242 149.0 1.0393917167282741e-80\n"
          ]
        },
        {
          "output_type": "stream",
          "name": "stderr",
          "text": [
            "/usr/local/lib/python3.7/dist-packages/ipykernel_launcher.py:2: RuntimeWarning: overflow encountered in double_scalars\n",
            "  \n"
          ]
        },
        {
          "output_type": "display_data",
          "data": {
            "text/plain": [
              "<Figure size 432x288 with 1 Axes>"
            ],
            "image/png": "[encoded data removed]"
          },
          "metadata": {
            "needs_background": "light"
          }
        },
        {
          "output_type": "display_data",
          "data": {
            "text/plain": [
              "<Figure size 432x288 with 1 Axes>"
            ],
            "image/png": "[encoded data removed]"
          },
          "metadata": {
            "needs_background": "light"
          }
        },
        {
          "output_type": "stream",
          "name": "stdout",
          "text": [
            "0.0\n",
            "[ 70  66  77  23  33  48  44  95  45  76   9  29  79  28  53  51   5  69\n",
            "  18  85  99  54  42  12  47  75   6  25  68  96  86  13  61  14  64  98\n",
            "  10  91  56   7  27   2  32  90  58  89  15  52  40   4  30  35  50  84\n",
            "  36  71  92  26  34  67  20 100  82  19  16  80  22  39  73  37  87  43\n",
            "  78  11  46  93  38  81  60   3  24  49  17  21  83  57  94   1   8  97\n",
            "  59  62  88  74  72  41  63  55  65  31]\n"
          ]
        }
      ]
    }
  ]
}